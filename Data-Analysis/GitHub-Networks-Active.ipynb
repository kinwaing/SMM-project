{
 "cells": [
  {
   "cell_type": "code",
   "execution_count": null,
   "metadata": {},
   "outputs": [],
   "source": [
    "import pandas as pd\n",
    "import numpy as np"
   ]
  },
  {
   "cell_type": "code",
   "execution_count": 62,
   "metadata": {},
   "outputs": [],
   "source": [
    "import tables"
   ]
  },
  {
   "cell_type": "code",
   "execution_count": 2,
   "metadata": {},
   "outputs": [],
   "source": [
    "import matplotlib.pyplot as plt\n",
    "import seaborn as sns"
   ]
  },
  {
   "cell_type": "code",
   "execution_count": 3,
   "metadata": {},
   "outputs": [],
   "source": [
    "import networkx as nx"
   ]
  },
  {
   "cell_type": "code",
   "execution_count": 66,
   "metadata": {},
   "outputs": [],
   "source": [
    "def add_missing_data_git(df, entity='Vendor'):\n",
    "    \n",
    "    max_date =  max(df['dailyTime'])\n",
    "    min_date = min(df['dailyTime'])\n",
    "\n",
    "    idx = pd.date_range(min_date, max_date)\n",
    "    df.set_index('dailyTime', inplace=True)\n",
    "\n",
    "    df_concat = []\n",
    "\n",
    "    for user, group in df.groupby(entity):\n",
    "        s = group['PushEvent']\n",
    "\n",
    "        s = s.reindex(idx, fill_value=0)\n",
    "\n",
    "        df = pd.DataFrame(s)\n",
    "        df[entity] = user\n",
    "\n",
    "        df_concat.append(df)\n",
    "\n",
    "    df_new = pd.concat(df_concat)\n",
    "    return df_new\n",
    "    "
   ]
  },
  {
   "cell_type": "code",
   "execution_count": 67,
   "metadata": {},
   "outputs": [],
   "source": [
    "def generate_input_files(G, nodes, file_nodes, file_edges):\n",
    "    \n",
    "    df = nx.to_pandas_edgelist(G)\n",
    "    df['weight'] = 1\n",
    "    #Find self loops\n",
    "    self_nodes = df.loc[df['source'] == df['target']]\n",
    "    self_nodes = list(self_nodes['source'])\n",
    "    \n",
    "    #Find nodes without self-loops\n",
    "    no_self_nodes = list(set(nodes) - set(self_nodes))\n",
    "    #insert self-loops with weight 0 for records without self loops\n",
    "    entries = [{'source':node, 'target':node, 'weight':0} for node in no_self_nodes]\n",
    "    \n",
    "    if len(entries) > 0:\n",
    "        df= df.append(entries)\n",
    "    \n",
    "    #encode the largest connected component into integers\n",
    "    lc_encoding = {}\n",
    "    for _i, node in enumerate(nodes):\n",
    "        lc_encoding[node] = str(_i)\n",
    "    df['source'] = df['source'].apply(lambda x: lc_encoding[x])\n",
    "    df['target'] = df['target'].apply(lambda x: lc_encoding[x])\n",
    "    \n",
    "    #rename columns\n",
    "    df.rename(columns={'source':'from', 'target':'to', 'weight':'distance'}, inplace=True)\n",
    "    df['distance']= df['distance'].astype(float)\n",
    "    \n",
    "    #write id list to file\n",
    "    with open(file_nodes, 'w') as f:\n",
    "        f.write(\",\".join(list(lc_encoding.values())))\n",
    "    df.to_csv(file_edges, index=False)\n",
    "    print('Files written succesfully')\n",
    "    \n",
    "    return df, lc_encoding"
   ]
  },
  {
   "cell_type": "code",
   "execution_count": 4,
   "metadata": {},
   "outputs": [],
   "source": [
    "path_to_file = ''"
   ]
  },
  {
   "cell_type": "markdown",
   "metadata": {},
   "source": [
    "#### Load Dataset"
   ]
  },
  {
   "cell_type": "code",
   "execution_count": null,
   "metadata": {},
   "outputs": [],
   "source": [
    "cve_df = ss.load_data(path_to_file)"
   ]
  },
  {
   "cell_type": "code",
   "execution_count": 6,
   "metadata": {},
   "outputs": [],
   "source": [
    "github_df = cve_df.loc[cve_df['platform'] == 'github'].reset_index(drop=True)"
   ]
  },
  {
   "cell_type": "code",
   "execution_count": 7,
   "metadata": {},
   "outputs": [
    {
     "data": {
      "text/html": [
       "<div>\n",
       "<style scoped>\n",
       "    .dataframe tbody tr th:only-of-type {\n",
       "        vertical-align: middle;\n",
       "    }\n",
       "\n",
       "    .dataframe tbody tr th {\n",
       "        vertical-align: top;\n",
       "    }\n",
       "\n",
       "    .dataframe thead th {\n",
       "        text-align: right;\n",
       "    }\n",
       "</style>\n",
       "<table border=\"1\" class=\"dataframe\">\n",
       "  <thead>\n",
       "    <tr style=\"text-align: right;\">\n",
       "      <th></th>\n",
       "      <th>actionType</th>\n",
       "      <th>communityID</th>\n",
       "      <th>domain_linked</th>\n",
       "      <th>has_URL</th>\n",
       "      <th>informationID</th>\n",
       "      <th>links_to_external</th>\n",
       "      <th>nodeID</th>\n",
       "      <th>nodeTime</th>\n",
       "      <th>nodeUserID</th>\n",
       "      <th>parentID</th>\n",
       "      <th>platform</th>\n",
       "      <th>rootID</th>\n",
       "    </tr>\n",
       "  </thead>\n",
       "  <tbody>\n",
       "    <tr>\n",
       "      <th>0</th>\n",
       "      <td>PullRequestReviewCommentEvent</td>\n",
       "      <td>NaN</td>\n",
       "      <td>[]</td>\n",
       "      <td>0</td>\n",
       "      <td>CVE-2016-1643</td>\n",
       "      <td>0</td>\n",
       "      <td>3QzVzsrO-Goc3xy_JRo58A/wwZ4LQv58D0ltk7KUib37Q</td>\n",
       "      <td>2017-04-01 00:03:00</td>\n",
       "      <td>tZWqlNYHz9xWRrmK8-QUKg</td>\n",
       "      <td>NaN</td>\n",
       "      <td>github</td>\n",
       "      <td>NaN</td>\n",
       "    </tr>\n",
       "    <tr>\n",
       "      <th>1</th>\n",
       "      <td>PullRequestReviewCommentEvent</td>\n",
       "      <td>NaN</td>\n",
       "      <td>[]</td>\n",
       "      <td>0</td>\n",
       "      <td>CVE-2011-0779</td>\n",
       "      <td>0</td>\n",
       "      <td>3QzVzsrO-Goc3xy_JRo58A/wwZ4LQv58D0ltk7KUib37Q</td>\n",
       "      <td>2017-04-01 00:03:00</td>\n",
       "      <td>tZWqlNYHz9xWRrmK8-QUKg</td>\n",
       "      <td>NaN</td>\n",
       "      <td>github</td>\n",
       "      <td>NaN</td>\n",
       "    </tr>\n",
       "    <tr>\n",
       "      <th>2</th>\n",
       "      <td>PullRequestReviewCommentEvent</td>\n",
       "      <td>NaN</td>\n",
       "      <td>[]</td>\n",
       "      <td>0</td>\n",
       "      <td>CVE-2016-1643</td>\n",
       "      <td>0</td>\n",
       "      <td>3QzVzsrO-Goc3xy_JRo58A/wwZ4LQv58D0ltk7KUib37Q</td>\n",
       "      <td>2017-04-01 00:03:05</td>\n",
       "      <td>tZWqlNYHz9xWRrmK8-QUKg</td>\n",
       "      <td>NaN</td>\n",
       "      <td>github</td>\n",
       "      <td>NaN</td>\n",
       "    </tr>\n",
       "    <tr>\n",
       "      <th>3</th>\n",
       "      <td>PullRequestReviewCommentEvent</td>\n",
       "      <td>NaN</td>\n",
       "      <td>[]</td>\n",
       "      <td>0</td>\n",
       "      <td>CVE-2011-0779</td>\n",
       "      <td>0</td>\n",
       "      <td>3QzVzsrO-Goc3xy_JRo58A/wwZ4LQv58D0ltk7KUib37Q</td>\n",
       "      <td>2017-04-01 00:03:05</td>\n",
       "      <td>tZWqlNYHz9xWRrmK8-QUKg</td>\n",
       "      <td>NaN</td>\n",
       "      <td>github</td>\n",
       "      <td>NaN</td>\n",
       "    </tr>\n",
       "    <tr>\n",
       "      <th>4</th>\n",
       "      <td>IssueCommentEvent</td>\n",
       "      <td>NaN</td>\n",
       "      <td>[]</td>\n",
       "      <td>0</td>\n",
       "      <td>CVE-2016-4658</td>\n",
       "      <td>0</td>\n",
       "      <td>rGi7-SHZU9HPq5FsthIIZA/AsV4DYI_UZeHihXm9e9GxA</td>\n",
       "      <td>2017-04-01 00:10:03</td>\n",
       "      <td>J3DaDjCzXqgSSJXbtBkaKg</td>\n",
       "      <td>NaN</td>\n",
       "      <td>github</td>\n",
       "      <td>NaN</td>\n",
       "    </tr>\n",
       "  </tbody>\n",
       "</table>\n",
       "</div>"
      ],
      "text/plain": [
       "                      actionType communityID domain_linked  has_URL  \\\n",
       "0  PullRequestReviewCommentEvent         NaN            []        0   \n",
       "1  PullRequestReviewCommentEvent         NaN            []        0   \n",
       "2  PullRequestReviewCommentEvent         NaN            []        0   \n",
       "3  PullRequestReviewCommentEvent         NaN            []        0   \n",
       "4              IssueCommentEvent         NaN            []        0   \n",
       "\n",
       "   informationID  links_to_external  \\\n",
       "0  CVE-2016-1643                  0   \n",
       "1  CVE-2011-0779                  0   \n",
       "2  CVE-2016-1643                  0   \n",
       "3  CVE-2011-0779                  0   \n",
       "4  CVE-2016-4658                  0   \n",
       "\n",
       "                                          nodeID            nodeTime  \\\n",
       "0  3QzVzsrO-Goc3xy_JRo58A/wwZ4LQv58D0ltk7KUib37Q 2017-04-01 00:03:00   \n",
       "1  3QzVzsrO-Goc3xy_JRo58A/wwZ4LQv58D0ltk7KUib37Q 2017-04-01 00:03:00   \n",
       "2  3QzVzsrO-Goc3xy_JRo58A/wwZ4LQv58D0ltk7KUib37Q 2017-04-01 00:03:05   \n",
       "3  3QzVzsrO-Goc3xy_JRo58A/wwZ4LQv58D0ltk7KUib37Q 2017-04-01 00:03:05   \n",
       "4  rGi7-SHZU9HPq5FsthIIZA/AsV4DYI_UZeHihXm9e9GxA 2017-04-01 00:10:03   \n",
       "\n",
       "               nodeUserID parentID platform rootID  \n",
       "0  tZWqlNYHz9xWRrmK8-QUKg      NaN   github    NaN  \n",
       "1  tZWqlNYHz9xWRrmK8-QUKg      NaN   github    NaN  \n",
       "2  tZWqlNYHz9xWRrmK8-QUKg      NaN   github    NaN  \n",
       "3  tZWqlNYHz9xWRrmK8-QUKg      NaN   github    NaN  \n",
       "4  J3DaDjCzXqgSSJXbtBkaKg      NaN   github    NaN  "
      ]
     },
     "execution_count": 7,
     "metadata": {},
     "output_type": "execute_result"
    }
   ],
   "source": [
    "github_df.head()"
   ]
  },
  {
   "cell_type": "code",
   "execution_count": 8,
   "metadata": {},
   "outputs": [
    {
     "name": "stdout",
     "output_type": "stream",
     "text": [
      "2015-01-01 00:05:41 2018-03-31 23:41:48\n"
     ]
    }
   ],
   "source": [
    "print(min(github_df['nodeTime']), max(github_df['nodeTime']))"
   ]
  },
  {
   "cell_type": "markdown",
   "metadata": {},
   "source": [
    "## Vendor Level"
   ]
  },
  {
   "cell_type": "code",
   "execution_count": 168,
   "metadata": {
    "scrolled": true
   },
   "outputs": [],
   "source": [
    "df = mapping_df.groupby('Vendor')['Product'].apply(list).reset_index(name='list')"
   ]
  },
  {
   "cell_type": "code",
   "execution_count": 173,
   "metadata": {
    "scrolled": true
   },
   "outputs": [
    {
     "data": {
      "text/html": [
       "<div>\n",
       "<style scoped>\n",
       "    .dataframe tbody tr th:only-of-type {\n",
       "        vertical-align: middle;\n",
       "    }\n",
       "\n",
       "    .dataframe tbody tr th {\n",
       "        vertical-align: top;\n",
       "    }\n",
       "\n",
       "    .dataframe thead th {\n",
       "        text-align: right;\n",
       "    }\n",
       "</style>\n",
       "<table border=\"1\" class=\"dataframe\">\n",
       "  <thead>\n",
       "    <tr style=\"text-align: right;\">\n",
       "      <th></th>\n",
       "      <th>CVEID</th>\n",
       "      <th>Vendor</th>\n",
       "      <th>Product</th>\n",
       "      <th>AccessVector</th>\n",
       "      <th>Severity</th>\n",
       "      <th>DOD Usage</th>\n",
       "    </tr>\n",
       "  </thead>\n",
       "  <tbody>\n",
       "    <tr>\n",
       "      <th>19</th>\n",
       "      <td>CVE-1999-0015</td>\n",
       "      <td>microsoft</td>\n",
       "      <td>windows_95</td>\n",
       "      <td>NETWORK</td>\n",
       "      <td>MEDIUM</td>\n",
       "      <td>1.0</td>\n",
       "    </tr>\n",
       "    <tr>\n",
       "      <th>20</th>\n",
       "      <td>CVE-1999-0015</td>\n",
       "      <td>microsoft</td>\n",
       "      <td>windows_nt</td>\n",
       "      <td>NETWORK</td>\n",
       "      <td>MEDIUM</td>\n",
       "      <td>1.0</td>\n",
       "    </tr>\n",
       "    <tr>\n",
       "      <th>26</th>\n",
       "      <td>CVE-1999-0016</td>\n",
       "      <td>microsoft</td>\n",
       "      <td>winsock</td>\n",
       "      <td>NETWORK</td>\n",
       "      <td>MEDIUM</td>\n",
       "      <td>1.0</td>\n",
       "    </tr>\n",
       "    <tr>\n",
       "      <th>27</th>\n",
       "      <td>CVE-1999-0016</td>\n",
       "      <td>microsoft</td>\n",
       "      <td>windows_95</td>\n",
       "      <td>NETWORK</td>\n",
       "      <td>MEDIUM</td>\n",
       "      <td>1.0</td>\n",
       "    </tr>\n",
       "    <tr>\n",
       "      <th>28</th>\n",
       "      <td>CVE-1999-0016</td>\n",
       "      <td>microsoft</td>\n",
       "      <td>windows_nt</td>\n",
       "      <td>NETWORK</td>\n",
       "      <td>MEDIUM</td>\n",
       "      <td>1.0</td>\n",
       "    </tr>\n",
       "    <tr>\n",
       "      <th>42</th>\n",
       "      <td>CVE-1999-0278</td>\n",
       "      <td>microsoft</td>\n",
       "      <td>internet_information_server</td>\n",
       "      <td>NETWORK</td>\n",
       "      <td>MEDIUM</td>\n",
       "      <td>1.0</td>\n",
       "    </tr>\n",
       "    <tr>\n",
       "      <th>43</th>\n",
       "      <td>CVE-1999-0278</td>\n",
       "      <td>microsoft</td>\n",
       "      <td>windows_nt</td>\n",
       "      <td>NETWORK</td>\n",
       "      <td>MEDIUM</td>\n",
       "      <td>1.0</td>\n",
       "    </tr>\n",
       "    <tr>\n",
       "      <th>55</th>\n",
       "      <td>CVE-1999-0519</td>\n",
       "      <td>microsoft</td>\n",
       "      <td>outlook</td>\n",
       "      <td>NETWORK</td>\n",
       "      <td>HIGH</td>\n",
       "      <td>1.0</td>\n",
       "    </tr>\n",
       "    <tr>\n",
       "      <th>56</th>\n",
       "      <td>CVE-1999-0519</td>\n",
       "      <td>microsoft</td>\n",
       "      <td>windows_2000</td>\n",
       "      <td>NETWORK</td>\n",
       "      <td>HIGH</td>\n",
       "      <td>1.0</td>\n",
       "    </tr>\n",
       "    <tr>\n",
       "      <th>57</th>\n",
       "      <td>CVE-1999-0519</td>\n",
       "      <td>microsoft</td>\n",
       "      <td>windows_95</td>\n",
       "      <td>NETWORK</td>\n",
       "      <td>HIGH</td>\n",
       "      <td>1.0</td>\n",
       "    </tr>\n",
       "    <tr>\n",
       "      <th>58</th>\n",
       "      <td>CVE-1999-0519</td>\n",
       "      <td>microsoft</td>\n",
       "      <td>windows_nt</td>\n",
       "      <td>NETWORK</td>\n",
       "      <td>HIGH</td>\n",
       "      <td>1.0</td>\n",
       "    </tr>\n",
       "    <tr>\n",
       "      <th>67</th>\n",
       "      <td>CVE-1999-0524</td>\n",
       "      <td>microsoft</td>\n",
       "      <td>all_windows</td>\n",
       "      <td>LOCAL</td>\n",
       "      <td>LOW</td>\n",
       "      <td>1.0</td>\n",
       "    </tr>\n",
       "    <tr>\n",
       "      <th>72</th>\n",
       "      <td>CVE-1999-0668</td>\n",
       "      <td>microsoft</td>\n",
       "      <td>ie</td>\n",
       "      <td>NETWORK</td>\n",
       "      <td>MEDIUM</td>\n",
       "      <td>1.0</td>\n",
       "    </tr>\n",
       "    <tr>\n",
       "      <th>89</th>\n",
       "      <td>CVE-1999-1011</td>\n",
       "      <td>microsoft</td>\n",
       "      <td>data_access_components</td>\n",
       "      <td>NETWORK</td>\n",
       "      <td>HIGH</td>\n",
       "      <td>1.0</td>\n",
       "    </tr>\n",
       "    <tr>\n",
       "      <th>90</th>\n",
       "      <td>CVE-1999-1011</td>\n",
       "      <td>microsoft</td>\n",
       "      <td>index_server</td>\n",
       "      <td>NETWORK</td>\n",
       "      <td>HIGH</td>\n",
       "      <td>1.0</td>\n",
       "    </tr>\n",
       "    <tr>\n",
       "      <th>91</th>\n",
       "      <td>CVE-1999-1011</td>\n",
       "      <td>microsoft</td>\n",
       "      <td>internet_information_server</td>\n",
       "      <td>NETWORK</td>\n",
       "      <td>HIGH</td>\n",
       "      <td>1.0</td>\n",
       "    </tr>\n",
       "    <tr>\n",
       "      <th>92</th>\n",
       "      <td>CVE-1999-1011</td>\n",
       "      <td>microsoft</td>\n",
       "      <td>site_server</td>\n",
       "      <td>NETWORK</td>\n",
       "      <td>HIGH</td>\n",
       "      <td>1.0</td>\n",
       "    </tr>\n",
       "    <tr>\n",
       "      <th>109</th>\n",
       "      <td>CVE-2000-0211</td>\n",
       "      <td>microsoft</td>\n",
       "      <td>windows_media_services</td>\n",
       "      <td>NETWORK</td>\n",
       "      <td>MEDIUM</td>\n",
       "      <td>1.0</td>\n",
       "    </tr>\n",
       "    <tr>\n",
       "      <th>111</th>\n",
       "      <td>CVE-2000-0305</td>\n",
       "      <td>microsoft</td>\n",
       "      <td>terminal_server</td>\n",
       "      <td>NETWORK</td>\n",
       "      <td>HIGH</td>\n",
       "      <td>1.0</td>\n",
       "    </tr>\n",
       "    <tr>\n",
       "      <th>112</th>\n",
       "      <td>CVE-2000-0305</td>\n",
       "      <td>microsoft</td>\n",
       "      <td>windows_2000</td>\n",
       "      <td>NETWORK</td>\n",
       "      <td>HIGH</td>\n",
       "      <td>1.0</td>\n",
       "    </tr>\n",
       "    <tr>\n",
       "      <th>113</th>\n",
       "      <td>CVE-2000-0305</td>\n",
       "      <td>microsoft</td>\n",
       "      <td>windows_95</td>\n",
       "      <td>NETWORK</td>\n",
       "      <td>HIGH</td>\n",
       "      <td>1.0</td>\n",
       "    </tr>\n",
       "    <tr>\n",
       "      <th>114</th>\n",
       "      <td>CVE-2000-0305</td>\n",
       "      <td>microsoft</td>\n",
       "      <td>windows_98</td>\n",
       "      <td>NETWORK</td>\n",
       "      <td>HIGH</td>\n",
       "      <td>1.0</td>\n",
       "    </tr>\n",
       "    <tr>\n",
       "      <th>115</th>\n",
       "      <td>CVE-2000-0305</td>\n",
       "      <td>microsoft</td>\n",
       "      <td>windows_nt</td>\n",
       "      <td>NETWORK</td>\n",
       "      <td>HIGH</td>\n",
       "      <td>1.0</td>\n",
       "    </tr>\n",
       "    <tr>\n",
       "      <th>119</th>\n",
       "      <td>CVE-2000-0544</td>\n",
       "      <td>microsoft</td>\n",
       "      <td>windows_2000</td>\n",
       "      <td>NETWORK</td>\n",
       "      <td>MEDIUM</td>\n",
       "      <td>1.0</td>\n",
       "    </tr>\n",
       "    <tr>\n",
       "      <th>120</th>\n",
       "      <td>CVE-2000-0544</td>\n",
       "      <td>microsoft</td>\n",
       "      <td>windows_nt</td>\n",
       "      <td>NETWORK</td>\n",
       "      <td>MEDIUM</td>\n",
       "      <td>1.0</td>\n",
       "    </tr>\n",
       "    <tr>\n",
       "      <th>121</th>\n",
       "      <td>CVE-2000-0597</td>\n",
       "      <td>microsoft</td>\n",
       "      <td>excel</td>\n",
       "      <td>NETWORK</td>\n",
       "      <td>HIGH</td>\n",
       "      <td>1.0</td>\n",
       "    </tr>\n",
       "    <tr>\n",
       "      <th>122</th>\n",
       "      <td>CVE-2000-0597</td>\n",
       "      <td>microsoft</td>\n",
       "      <td>powerpoint</td>\n",
       "      <td>NETWORK</td>\n",
       "      <td>HIGH</td>\n",
       "      <td>1.0</td>\n",
       "    </tr>\n",
       "    <tr>\n",
       "      <th>130</th>\n",
       "      <td>CVE-2000-1061</td>\n",
       "      <td>microsoft</td>\n",
       "      <td>ie</td>\n",
       "      <td>NETWORK</td>\n",
       "      <td>MEDIUM</td>\n",
       "      <td>1.0</td>\n",
       "    </tr>\n",
       "    <tr>\n",
       "      <th>164</th>\n",
       "      <td>CVE-2001-0152</td>\n",
       "      <td>microsoft</td>\n",
       "      <td>plus</td>\n",
       "      <td>LOCAL</td>\n",
       "      <td>LOW</td>\n",
       "      <td>1.0</td>\n",
       "    </tr>\n",
       "    <tr>\n",
       "      <th>166</th>\n",
       "      <td>CVE-2001-0333</td>\n",
       "      <td>microsoft</td>\n",
       "      <td>internet_information_server</td>\n",
       "      <td>NETWORK</td>\n",
       "      <td>HIGH</td>\n",
       "      <td>1.0</td>\n",
       "    </tr>\n",
       "    <tr>\n",
       "      <th>...</th>\n",
       "      <td>...</td>\n",
       "      <td>...</td>\n",
       "      <td>...</td>\n",
       "      <td>...</td>\n",
       "      <td>...</td>\n",
       "      <td>...</td>\n",
       "    </tr>\n",
       "    <tr>\n",
       "      <th>56043</th>\n",
       "      <td>CVE-2019-0806</td>\n",
       "      <td>microsoft</td>\n",
       "      <td>edge</td>\n",
       "      <td>NETWORK</td>\n",
       "      <td>HIGH</td>\n",
       "      <td>1.0</td>\n",
       "    </tr>\n",
       "    <tr>\n",
       "      <th>56044</th>\n",
       "      <td>CVE-2019-0808</td>\n",
       "      <td>microsoft</td>\n",
       "      <td>windows_7</td>\n",
       "      <td>LOCAL</td>\n",
       "      <td>HIGH</td>\n",
       "      <td>1.0</td>\n",
       "    </tr>\n",
       "    <tr>\n",
       "      <th>56045</th>\n",
       "      <td>CVE-2019-0808</td>\n",
       "      <td>microsoft</td>\n",
       "      <td>windows_server_2008</td>\n",
       "      <td>LOCAL</td>\n",
       "      <td>HIGH</td>\n",
       "      <td>1.0</td>\n",
       "    </tr>\n",
       "    <tr>\n",
       "      <th>56046</th>\n",
       "      <td>CVE-2019-0810</td>\n",
       "      <td>microsoft</td>\n",
       "      <td>chakracore</td>\n",
       "      <td>NETWORK</td>\n",
       "      <td>HIGH</td>\n",
       "      <td>1.0</td>\n",
       "    </tr>\n",
       "    <tr>\n",
       "      <th>56047</th>\n",
       "      <td>CVE-2019-0810</td>\n",
       "      <td>microsoft</td>\n",
       "      <td>edge</td>\n",
       "      <td>NETWORK</td>\n",
       "      <td>HIGH</td>\n",
       "      <td>1.0</td>\n",
       "    </tr>\n",
       "    <tr>\n",
       "      <th>56048</th>\n",
       "      <td>CVE-2019-0812</td>\n",
       "      <td>microsoft</td>\n",
       "      <td>chakracore</td>\n",
       "      <td>NETWORK</td>\n",
       "      <td>HIGH</td>\n",
       "      <td>1.0</td>\n",
       "    </tr>\n",
       "    <tr>\n",
       "      <th>56049</th>\n",
       "      <td>CVE-2019-0812</td>\n",
       "      <td>microsoft</td>\n",
       "      <td>edge</td>\n",
       "      <td>NETWORK</td>\n",
       "      <td>HIGH</td>\n",
       "      <td>1.0</td>\n",
       "    </tr>\n",
       "    <tr>\n",
       "      <th>56050</th>\n",
       "      <td>CVE-2019-0815</td>\n",
       "      <td>microsoft</td>\n",
       "      <td>asp.net_core</td>\n",
       "      <td>NETWORK</td>\n",
       "      <td>MEDIUM</td>\n",
       "      <td>1.0</td>\n",
       "    </tr>\n",
       "    <tr>\n",
       "      <th>56051</th>\n",
       "      <td>CVE-2019-0817</td>\n",
       "      <td>microsoft</td>\n",
       "      <td>exchange_server</td>\n",
       "      <td>NETWORK</td>\n",
       "      <td>MEDIUM</td>\n",
       "      <td>1.0</td>\n",
       "    </tr>\n",
       "    <tr>\n",
       "      <th>56052</th>\n",
       "      <td>CVE-2019-0829</td>\n",
       "      <td>microsoft</td>\n",
       "      <td>chakracore</td>\n",
       "      <td>NETWORK</td>\n",
       "      <td>HIGH</td>\n",
       "      <td>1.0</td>\n",
       "    </tr>\n",
       "    <tr>\n",
       "      <th>56053</th>\n",
       "      <td>CVE-2019-0829</td>\n",
       "      <td>microsoft</td>\n",
       "      <td>edge</td>\n",
       "      <td>NETWORK</td>\n",
       "      <td>HIGH</td>\n",
       "      <td>1.0</td>\n",
       "    </tr>\n",
       "    <tr>\n",
       "      <th>56054</th>\n",
       "      <td>CVE-2019-0841</td>\n",
       "      <td>microsoft</td>\n",
       "      <td>windows_10</td>\n",
       "      <td>LOCAL</td>\n",
       "      <td>HIGH</td>\n",
       "      <td>1.0</td>\n",
       "    </tr>\n",
       "    <tr>\n",
       "      <th>56055</th>\n",
       "      <td>CVE-2019-0841</td>\n",
       "      <td>microsoft</td>\n",
       "      <td>windows_server_2016</td>\n",
       "      <td>LOCAL</td>\n",
       "      <td>HIGH</td>\n",
       "      <td>1.0</td>\n",
       "    </tr>\n",
       "    <tr>\n",
       "      <th>56056</th>\n",
       "      <td>CVE-2019-0841</td>\n",
       "      <td>microsoft</td>\n",
       "      <td>windows_server_2019</td>\n",
       "      <td>LOCAL</td>\n",
       "      <td>HIGH</td>\n",
       "      <td>1.0</td>\n",
       "    </tr>\n",
       "    <tr>\n",
       "      <th>56057</th>\n",
       "      <td>CVE-2019-0842</td>\n",
       "      <td>microsoft</td>\n",
       "      <td>windows_10</td>\n",
       "      <td>NETWORK</td>\n",
       "      <td>HIGH</td>\n",
       "      <td>1.0</td>\n",
       "    </tr>\n",
       "    <tr>\n",
       "      <th>56058</th>\n",
       "      <td>CVE-2019-0842</td>\n",
       "      <td>microsoft</td>\n",
       "      <td>windows_7</td>\n",
       "      <td>NETWORK</td>\n",
       "      <td>HIGH</td>\n",
       "      <td>1.0</td>\n",
       "    </tr>\n",
       "    <tr>\n",
       "      <th>56059</th>\n",
       "      <td>CVE-2019-0842</td>\n",
       "      <td>microsoft</td>\n",
       "      <td>windows_8.1</td>\n",
       "      <td>NETWORK</td>\n",
       "      <td>HIGH</td>\n",
       "      <td>1.0</td>\n",
       "    </tr>\n",
       "    <tr>\n",
       "      <th>56060</th>\n",
       "      <td>CVE-2019-0842</td>\n",
       "      <td>microsoft</td>\n",
       "      <td>windows_rt_8.1</td>\n",
       "      <td>NETWORK</td>\n",
       "      <td>HIGH</td>\n",
       "      <td>1.0</td>\n",
       "    </tr>\n",
       "    <tr>\n",
       "      <th>56061</th>\n",
       "      <td>CVE-2019-0842</td>\n",
       "      <td>microsoft</td>\n",
       "      <td>windows_server_2008</td>\n",
       "      <td>NETWORK</td>\n",
       "      <td>HIGH</td>\n",
       "      <td>1.0</td>\n",
       "    </tr>\n",
       "    <tr>\n",
       "      <th>56062</th>\n",
       "      <td>CVE-2019-0842</td>\n",
       "      <td>microsoft</td>\n",
       "      <td>windows_server_2012</td>\n",
       "      <td>NETWORK</td>\n",
       "      <td>HIGH</td>\n",
       "      <td>1.0</td>\n",
       "    </tr>\n",
       "    <tr>\n",
       "      <th>56063</th>\n",
       "      <td>CVE-2019-0842</td>\n",
       "      <td>microsoft</td>\n",
       "      <td>windows_server_2016</td>\n",
       "      <td>NETWORK</td>\n",
       "      <td>HIGH</td>\n",
       "      <td>1.0</td>\n",
       "    </tr>\n",
       "    <tr>\n",
       "      <th>56064</th>\n",
       "      <td>CVE-2019-0842</td>\n",
       "      <td>microsoft</td>\n",
       "      <td>windows_server_2019</td>\n",
       "      <td>NETWORK</td>\n",
       "      <td>HIGH</td>\n",
       "      <td>1.0</td>\n",
       "    </tr>\n",
       "    <tr>\n",
       "      <th>56065</th>\n",
       "      <td>CVE-2019-0858</td>\n",
       "      <td>microsoft</td>\n",
       "      <td>exchange_server</td>\n",
       "      <td>NETWORK</td>\n",
       "      <td>MEDIUM</td>\n",
       "      <td>1.0</td>\n",
       "    </tr>\n",
       "    <tr>\n",
       "      <th>56066</th>\n",
       "      <td>CVE-2019-0860</td>\n",
       "      <td>microsoft</td>\n",
       "      <td>chakracore</td>\n",
       "      <td>NETWORK</td>\n",
       "      <td>HIGH</td>\n",
       "      <td>1.0</td>\n",
       "    </tr>\n",
       "    <tr>\n",
       "      <th>56067</th>\n",
       "      <td>CVE-2019-0860</td>\n",
       "      <td>microsoft</td>\n",
       "      <td>edge</td>\n",
       "      <td>NETWORK</td>\n",
       "      <td>HIGH</td>\n",
       "      <td>1.0</td>\n",
       "    </tr>\n",
       "    <tr>\n",
       "      <th>56068</th>\n",
       "      <td>CVE-2019-0861</td>\n",
       "      <td>microsoft</td>\n",
       "      <td>chakracore</td>\n",
       "      <td>NETWORK</td>\n",
       "      <td>HIGH</td>\n",
       "      <td>1.0</td>\n",
       "    </tr>\n",
       "    <tr>\n",
       "      <th>56069</th>\n",
       "      <td>CVE-2019-0861</td>\n",
       "      <td>microsoft</td>\n",
       "      <td>edge</td>\n",
       "      <td>NETWORK</td>\n",
       "      <td>HIGH</td>\n",
       "      <td>1.0</td>\n",
       "    </tr>\n",
       "    <tr>\n",
       "      <th>56070</th>\n",
       "      <td>CVE-2019-0876</td>\n",
       "      <td>microsoft</td>\n",
       "      <td>open_enclave_software_development_kit</td>\n",
       "      <td>NETWORK</td>\n",
       "      <td>MEDIUM</td>\n",
       "      <td>1.0</td>\n",
       "    </tr>\n",
       "    <tr>\n",
       "      <th>57716</th>\n",
       "      <td>CVE-2019-5921</td>\n",
       "      <td>microsoft</td>\n",
       "      <td>windows_7</td>\n",
       "      <td>NETWORK</td>\n",
       "      <td>MEDIUM</td>\n",
       "      <td>1.0</td>\n",
       "    </tr>\n",
       "    <tr>\n",
       "      <th>57717</th>\n",
       "      <td>CVE-2019-5922</td>\n",
       "      <td>microsoft</td>\n",
       "      <td>teams</td>\n",
       "      <td>NETWORK</td>\n",
       "      <td>MEDIUM</td>\n",
       "      <td>1.0</td>\n",
       "    </tr>\n",
       "  </tbody>\n",
       "</table>\n",
       "<p>6007 rows × 6 columns</p>\n",
       "</div>"
      ],
      "text/plain": [
       "               CVEID     Vendor                                Product  \\\n",
       "19     CVE-1999-0015  microsoft                             windows_95   \n",
       "20     CVE-1999-0015  microsoft                             windows_nt   \n",
       "26     CVE-1999-0016  microsoft                                winsock   \n",
       "27     CVE-1999-0016  microsoft                             windows_95   \n",
       "28     CVE-1999-0016  microsoft                             windows_nt   \n",
       "42     CVE-1999-0278  microsoft            internet_information_server   \n",
       "43     CVE-1999-0278  microsoft                             windows_nt   \n",
       "55     CVE-1999-0519  microsoft                                outlook   \n",
       "56     CVE-1999-0519  microsoft                           windows_2000   \n",
       "57     CVE-1999-0519  microsoft                             windows_95   \n",
       "58     CVE-1999-0519  microsoft                             windows_nt   \n",
       "67     CVE-1999-0524  microsoft                            all_windows   \n",
       "72     CVE-1999-0668  microsoft                                     ie   \n",
       "89     CVE-1999-1011  microsoft                 data_access_components   \n",
       "90     CVE-1999-1011  microsoft                           index_server   \n",
       "91     CVE-1999-1011  microsoft            internet_information_server   \n",
       "92     CVE-1999-1011  microsoft                            site_server   \n",
       "109    CVE-2000-0211  microsoft                 windows_media_services   \n",
       "111    CVE-2000-0305  microsoft                        terminal_server   \n",
       "112    CVE-2000-0305  microsoft                           windows_2000   \n",
       "113    CVE-2000-0305  microsoft                             windows_95   \n",
       "114    CVE-2000-0305  microsoft                             windows_98   \n",
       "115    CVE-2000-0305  microsoft                             windows_nt   \n",
       "119    CVE-2000-0544  microsoft                           windows_2000   \n",
       "120    CVE-2000-0544  microsoft                             windows_nt   \n",
       "121    CVE-2000-0597  microsoft                                  excel   \n",
       "122    CVE-2000-0597  microsoft                             powerpoint   \n",
       "130    CVE-2000-1061  microsoft                                     ie   \n",
       "164    CVE-2001-0152  microsoft                                   plus   \n",
       "166    CVE-2001-0333  microsoft            internet_information_server   \n",
       "...              ...        ...                                    ...   \n",
       "56043  CVE-2019-0806  microsoft                                   edge   \n",
       "56044  CVE-2019-0808  microsoft                              windows_7   \n",
       "56045  CVE-2019-0808  microsoft                    windows_server_2008   \n",
       "56046  CVE-2019-0810  microsoft                             chakracore   \n",
       "56047  CVE-2019-0810  microsoft                                   edge   \n",
       "56048  CVE-2019-0812  microsoft                             chakracore   \n",
       "56049  CVE-2019-0812  microsoft                                   edge   \n",
       "56050  CVE-2019-0815  microsoft                           asp.net_core   \n",
       "56051  CVE-2019-0817  microsoft                        exchange_server   \n",
       "56052  CVE-2019-0829  microsoft                             chakracore   \n",
       "56053  CVE-2019-0829  microsoft                                   edge   \n",
       "56054  CVE-2019-0841  microsoft                             windows_10   \n",
       "56055  CVE-2019-0841  microsoft                    windows_server_2016   \n",
       "56056  CVE-2019-0841  microsoft                    windows_server_2019   \n",
       "56057  CVE-2019-0842  microsoft                             windows_10   \n",
       "56058  CVE-2019-0842  microsoft                              windows_7   \n",
       "56059  CVE-2019-0842  microsoft                            windows_8.1   \n",
       "56060  CVE-2019-0842  microsoft                         windows_rt_8.1   \n",
       "56061  CVE-2019-0842  microsoft                    windows_server_2008   \n",
       "56062  CVE-2019-0842  microsoft                    windows_server_2012   \n",
       "56063  CVE-2019-0842  microsoft                    windows_server_2016   \n",
       "56064  CVE-2019-0842  microsoft                    windows_server_2019   \n",
       "56065  CVE-2019-0858  microsoft                        exchange_server   \n",
       "56066  CVE-2019-0860  microsoft                             chakracore   \n",
       "56067  CVE-2019-0860  microsoft                                   edge   \n",
       "56068  CVE-2019-0861  microsoft                             chakracore   \n",
       "56069  CVE-2019-0861  microsoft                                   edge   \n",
       "56070  CVE-2019-0876  microsoft  open_enclave_software_development_kit   \n",
       "57716  CVE-2019-5921  microsoft                              windows_7   \n",
       "57717  CVE-2019-5922  microsoft                                  teams   \n",
       "\n",
       "      AccessVector Severity  DOD Usage  \n",
       "19         NETWORK   MEDIUM        1.0  \n",
       "20         NETWORK   MEDIUM        1.0  \n",
       "26         NETWORK   MEDIUM        1.0  \n",
       "27         NETWORK   MEDIUM        1.0  \n",
       "28         NETWORK   MEDIUM        1.0  \n",
       "42         NETWORK   MEDIUM        1.0  \n",
       "43         NETWORK   MEDIUM        1.0  \n",
       "55         NETWORK     HIGH        1.0  \n",
       "56         NETWORK     HIGH        1.0  \n",
       "57         NETWORK     HIGH        1.0  \n",
       "58         NETWORK     HIGH        1.0  \n",
       "67           LOCAL      LOW        1.0  \n",
       "72         NETWORK   MEDIUM        1.0  \n",
       "89         NETWORK     HIGH        1.0  \n",
       "90         NETWORK     HIGH        1.0  \n",
       "91         NETWORK     HIGH        1.0  \n",
       "92         NETWORK     HIGH        1.0  \n",
       "109        NETWORK   MEDIUM        1.0  \n",
       "111        NETWORK     HIGH        1.0  \n",
       "112        NETWORK     HIGH        1.0  \n",
       "113        NETWORK     HIGH        1.0  \n",
       "114        NETWORK     HIGH        1.0  \n",
       "115        NETWORK     HIGH        1.0  \n",
       "119        NETWORK   MEDIUM        1.0  \n",
       "120        NETWORK   MEDIUM        1.0  \n",
       "121        NETWORK     HIGH        1.0  \n",
       "122        NETWORK     HIGH        1.0  \n",
       "130        NETWORK   MEDIUM        1.0  \n",
       "164          LOCAL      LOW        1.0  \n",
       "166        NETWORK     HIGH        1.0  \n",
       "...            ...      ...        ...  \n",
       "56043      NETWORK     HIGH        1.0  \n",
       "56044        LOCAL     HIGH        1.0  \n",
       "56045        LOCAL     HIGH        1.0  \n",
       "56046      NETWORK     HIGH        1.0  \n",
       "56047      NETWORK     HIGH        1.0  \n",
       "56048      NETWORK     HIGH        1.0  \n",
       "56049      NETWORK     HIGH        1.0  \n",
       "56050      NETWORK   MEDIUM        1.0  \n",
       "56051      NETWORK   MEDIUM        1.0  \n",
       "56052      NETWORK     HIGH        1.0  \n",
       "56053      NETWORK     HIGH        1.0  \n",
       "56054        LOCAL     HIGH        1.0  \n",
       "56055        LOCAL     HIGH        1.0  \n",
       "56056        LOCAL     HIGH        1.0  \n",
       "56057      NETWORK     HIGH        1.0  \n",
       "56058      NETWORK     HIGH        1.0  \n",
       "56059      NETWORK     HIGH        1.0  \n",
       "56060      NETWORK     HIGH        1.0  \n",
       "56061      NETWORK     HIGH        1.0  \n",
       "56062      NETWORK     HIGH        1.0  \n",
       "56063      NETWORK     HIGH        1.0  \n",
       "56064      NETWORK     HIGH        1.0  \n",
       "56065      NETWORK   MEDIUM        1.0  \n",
       "56066      NETWORK     HIGH        1.0  \n",
       "56067      NETWORK     HIGH        1.0  \n",
       "56068      NETWORK     HIGH        1.0  \n",
       "56069      NETWORK     HIGH        1.0  \n",
       "56070      NETWORK   MEDIUM        1.0  \n",
       "57716      NETWORK   MEDIUM        1.0  \n",
       "57717      NETWORK   MEDIUM        1.0  \n",
       "\n",
       "[6007 rows x 6 columns]"
      ]
     },
     "execution_count": 173,
     "metadata": {},
     "output_type": "execute_result"
    }
   ],
   "source": [
    "mapping_df.loc[mapping_df['Vendor'] == 'microsoft']"
   ]
  },
  {
   "cell_type": "code",
   "execution_count": 172,
   "metadata": {
    "scrolled": true
   },
   "outputs": [
    {
     "data": {
      "text/html": [
       "<div>\n",
       "<style scoped>\n",
       "    .dataframe tbody tr th:only-of-type {\n",
       "        vertical-align: middle;\n",
       "    }\n",
       "\n",
       "    .dataframe tbody tr th {\n",
       "        vertical-align: top;\n",
       "    }\n",
       "\n",
       "    .dataframe thead th {\n",
       "        text-align: right;\n",
       "    }\n",
       "</style>\n",
       "<table border=\"1\" class=\"dataframe\">\n",
       "  <thead>\n",
       "    <tr style=\"text-align: right;\">\n",
       "      <th></th>\n",
       "      <th>Vendor</th>\n",
       "      <th>list</th>\n",
       "    </tr>\n",
       "  </thead>\n",
       "  <tbody>\n",
       "    <tr>\n",
       "      <th>1524</th>\n",
       "      <td>microsoft</td>\n",
       "      <td>[windows_95, windows_nt, winsock, windows_95, ...</td>\n",
       "    </tr>\n",
       "  </tbody>\n",
       "</table>\n",
       "</div>"
      ],
      "text/plain": [
       "         Vendor                                               list\n",
       "1524  microsoft  [windows_95, windows_nt, winsock, windows_95, ..."
      ]
     },
     "execution_count": 172,
     "metadata": {},
     "output_type": "execute_result"
    }
   ],
   "source": [
    "df.loc[df['Vendor'] == 'microsoft']"
   ]
  },
  {
   "cell_type": "code",
   "execution_count": 76,
   "metadata": {},
   "outputs": [],
   "source": [
    "path_to_ven = ''"
   ]
  },
  {
   "cell_type": "code",
   "execution_count": 77,
   "metadata": {},
   "outputs": [],
   "source": [
    "mapping_df = pd.read_csv(path_to_ven)"
   ]
  },
  {
   "cell_type": "code",
   "execution_count": 78,
   "metadata": {},
   "outputs": [],
   "source": [
    "vendor_df = pd.read_csv(path_to_ven)\n",
    "vendor_df.rename(columns={'CVEID':'informationID'}, inplace=True)"
   ]
  },
  {
   "cell_type": "code",
   "execution_count": 79,
   "metadata": {},
   "outputs": [],
   "source": [
    "github_ven = pd.merge(github_df, vendor_df, on='informationID', how='inner')"
   ]
  },
  {
   "cell_type": "code",
   "execution_count": 80,
   "metadata": {},
   "outputs": [],
   "source": [
    "github_ven= github_ven.drop_duplicates(['actionType', 'informationID', 'nodeID', 'nodeTime',\n",
    "                                          'nodeUserID', 'Vendor']).reset_index(drop=True)"
   ]
  },
  {
   "cell_type": "code",
   "execution_count": 81,
   "metadata": {
    "scrolled": true
   },
   "outputs": [],
   "source": [
    "vendor_df = github_ven[['informationID', 'Vendor']].copy()\n",
    "vendor_df = vendor_df.drop_duplicates()"
   ]
  },
  {
   "cell_type": "code",
   "execution_count": 82,
   "metadata": {},
   "outputs": [],
   "source": [
    "vendor_df1 = vendor_df.copy()\n",
    "vendor_df1.rename(columns={'Vendor':'Target'}, inplace=True)"
   ]
  },
  {
   "cell_type": "code",
   "execution_count": 83,
   "metadata": {},
   "outputs": [],
   "source": [
    "vendors_df = pd.merge(vendor_df, vendor_df1, on='informationID', how='left')"
   ]
  },
  {
   "cell_type": "code",
   "execution_count": 84,
   "metadata": {},
   "outputs": [],
   "source": [
    "vendors_df= vendors_df.groupby(['Vendor','Target']).size().reset_index(name='weight')"
   ]
  },
  {
   "cell_type": "markdown",
   "metadata": {},
   "source": [
    "#### Building Graph"
   ]
  },
  {
   "cell_type": "code",
   "execution_count": 70,
   "metadata": {},
   "outputs": [],
   "source": [
    "#Create digraph for GitHub\n",
    "G_ven = nx.from_pandas_edgelist(vendors_df,'Vendor', 'Target', ['weight'], create_using=nx.Graph())"
   ]
  },
  {
   "cell_type": "code",
   "execution_count": 71,
   "metadata": {},
   "outputs": [
    {
     "data": {
      "text/plain": [
       "(651, 2148)"
      ]
     },
     "execution_count": 71,
     "metadata": {},
     "output_type": "execute_result"
    }
   ],
   "source": [
    "G_ven.number_of_nodes(), G_ven.number_of_edges()"
   ]
  },
  {
   "cell_type": "code",
   "execution_count": 72,
   "metadata": {},
   "outputs": [],
   "source": [
    "#Get largest strongly connected component\n",
    "lc_ven = sorted(nx.connected_components(G_ven), key=len, reverse=True)"
   ]
  },
  {
   "cell_type": "code",
   "execution_count": 73,
   "metadata": {},
   "outputs": [],
   "source": [
    "#Get Subgraph of the largest connected component.\n",
    "lc_ven = G_ven.subgraph(lc_ven[0])"
   ]
  },
  {
   "cell_type": "code",
   "execution_count": 74,
   "metadata": {
    "scrolled": true
   },
   "outputs": [
    {
     "data": {
      "text/plain": [
       "(569, 2047)"
      ]
     },
     "execution_count": 74,
     "metadata": {},
     "output_type": "execute_result"
    }
   ],
   "source": [
    "#Number of nodes and edges in largest connected component\n",
    "lc_ven.number_of_nodes(), lc_ven.number_of_edges()"
   ]
  },
  {
   "cell_type": "code",
   "execution_count": 75,
   "metadata": {},
   "outputs": [],
   "source": [
    "#Get list of nodes in largest connected component\n",
    "ven_nodes = list(lc_ven.nodes())"
   ]
  },
  {
   "cell_type": "markdown",
   "metadata": {},
   "source": [
    "#### Getting activities by Vendor"
   ]
  },
  {
   "cell_type": "code",
   "execution_count": 85,
   "metadata": {},
   "outputs": [],
   "source": [
    "ven_acts = github_ven.loc[github_ven['Vendor'].isin(ven_nodes)].reset_index(drop=True)"
   ]
  },
  {
   "cell_type": "code",
   "execution_count": 86,
   "metadata": {},
   "outputs": [],
   "source": [
    "#Create a dailyTime field\n",
    "ven_acts['dailyTime'] = ven_acts['nodeTime'].dt.strftime('%Y-%m-%d')"
   ]
  },
  {
   "cell_type": "code",
   "execution_count": 87,
   "metadata": {
    "scrolled": true
   },
   "outputs": [],
   "source": [
    "#Get daily activities of each ven'' for 10 events\n",
    "ven_dayacts = ven_acts.groupby(['Vendor', 'dailyTime']).actionType.value_counts().unstack(fill_value=0).reset_index()"
   ]
  },
  {
   "cell_type": "code",
   "execution_count": 88,
   "metadata": {
    "scrolled": true
   },
   "outputs": [],
   "source": [
    "del ven_dayacts.columns.name"
   ]
  },
  {
   "cell_type": "code",
   "execution_count": 89,
   "metadata": {},
   "outputs": [],
   "source": [
    "#dailyTime to datetime object\n",
    "ven_dayacts['dailyTime'] = pd.to_datetime(ven_dayacts['dailyTime'])"
   ]
  },
  {
   "cell_type": "code",
   "execution_count": 90,
   "metadata": {},
   "outputs": [],
   "source": [
    "#Keep only PushEvents\n",
    "ven_dayacts = ven_dayacts[['Vendor', 'dailyTime', 'PushEvent']].copy()"
   ]
  },
  {
   "cell_type": "markdown",
   "metadata": {},
   "source": [
    "#### Generate missing inactive days"
   ]
  },
  {
   "cell_type": "code",
   "execution_count": 92,
   "metadata": {},
   "outputs": [],
   "source": [
    "github_new_ven = add_missing_data_git(ven_dayacts, entity='Vendor')"
   ]
  },
  {
   "cell_type": "code",
   "execution_count": 94,
   "metadata": {},
   "outputs": [],
   "source": [
    "#Get user avg daily push activities \n",
    "ven_avg_df = github_new_ven.groupby('Vendor')['PushEvent'].mean().reset_index(name='avg_daily')"
   ]
  },
  {
   "cell_type": "code",
   "execution_count": 95,
   "metadata": {
    "scrolled": true
   },
   "outputs": [
    {
     "data": {
      "text/html": [
       "<div>\n",
       "<style scoped>\n",
       "    .dataframe tbody tr th:only-of-type {\n",
       "        vertical-align: middle;\n",
       "    }\n",
       "\n",
       "    .dataframe tbody tr th {\n",
       "        vertical-align: top;\n",
       "    }\n",
       "\n",
       "    .dataframe thead th {\n",
       "        text-align: right;\n",
       "    }\n",
       "</style>\n",
       "<table border=\"1\" class=\"dataframe\">\n",
       "  <thead>\n",
       "    <tr style=\"text-align: right;\">\n",
       "      <th></th>\n",
       "      <th>avg_daily</th>\n",
       "    </tr>\n",
       "  </thead>\n",
       "  <tbody>\n",
       "    <tr>\n",
       "      <th>count</th>\n",
       "      <td>569.000000</td>\n",
       "    </tr>\n",
       "    <tr>\n",
       "      <th>mean</th>\n",
       "      <td>0.618939</td>\n",
       "    </tr>\n",
       "    <tr>\n",
       "      <th>std</th>\n",
       "      <td>3.114962</td>\n",
       "    </tr>\n",
       "    <tr>\n",
       "      <th>min</th>\n",
       "      <td>0.000000</td>\n",
       "    </tr>\n",
       "    <tr>\n",
       "      <th>25%</th>\n",
       "      <td>0.004216</td>\n",
       "    </tr>\n",
       "    <tr>\n",
       "      <th>50%</th>\n",
       "      <td>0.028668</td>\n",
       "    </tr>\n",
       "    <tr>\n",
       "      <th>75%</th>\n",
       "      <td>0.132378</td>\n",
       "    </tr>\n",
       "    <tr>\n",
       "      <th>max</th>\n",
       "      <td>41.571669</td>\n",
       "    </tr>\n",
       "  </tbody>\n",
       "</table>\n",
       "</div>"
      ],
      "text/plain": [
       "        avg_daily\n",
       "count  569.000000\n",
       "mean     0.618939\n",
       "std      3.114962\n",
       "min      0.000000\n",
       "25%      0.004216\n",
       "50%      0.028668\n",
       "75%      0.132378\n",
       "max     41.571669"
      ]
     },
     "execution_count": 95,
     "metadata": {},
     "output_type": "execute_result"
    }
   ],
   "source": [
    "ven_avg_df.describe()"
   ]
  },
  {
   "cell_type": "markdown",
   "metadata": {},
   "source": [
    "### Filter out users with an avg. number of activities less than the global avg."
   ]
  },
  {
   "cell_type": "code",
   "execution_count": 97,
   "metadata": {},
   "outputs": [],
   "source": [
    "avg_nodes_ven = ven_avg_df.loc[ven_avg_df['avg_daily'] > 0.618939]"
   ]
  },
  {
   "cell_type": "code",
   "execution_count": 98,
   "metadata": {
    "scrolled": true
   },
   "outputs": [],
   "source": [
    "avg_nodes_ven = list(avg_nodes_ven['Vendor'])"
   ]
  },
  {
   "cell_type": "code",
   "execution_count": 99,
   "metadata": {},
   "outputs": [],
   "source": [
    "#Keep only connections for nodes with avg activity greater than mean\n",
    "df_filter_ven = vendors_df.loc[vendors_df['Vendor'].isin(avg_nodes_ven)].reset_index(drop=True)"
   ]
  },
  {
   "cell_type": "code",
   "execution_count": 101,
   "metadata": {},
   "outputs": [],
   "source": [
    "#Create digraph for filtered nodes\n",
    "G_filter_ven = nx.from_pandas_edgelist(df_filter_ven, 'Vendor', 'Target', ['weight'], create_using=nx.DiGraph())"
   ]
  },
  {
   "cell_type": "code",
   "execution_count": 102,
   "metadata": {},
   "outputs": [],
   "source": [
    "#Get largest strongly connected component\n",
    "lc_filter_ven = sorted(nx.strongly_connected_components(G_filter_ven), key=len, reverse=True)"
   ]
  },
  {
   "cell_type": "code",
   "execution_count": 103,
   "metadata": {},
   "outputs": [],
   "source": [
    "#Get Subgraph of the largest connected component.\n",
    "lc_filter_ven = G_filter_ven.subgraph(lc_filter_ven[0])"
   ]
  },
  {
   "cell_type": "code",
   "execution_count": 104,
   "metadata": {},
   "outputs": [
    {
     "data": {
      "text/plain": [
       "(66, 1032)"
      ]
     },
     "execution_count": 104,
     "metadata": {},
     "output_type": "execute_result"
    }
   ],
   "source": [
    "#Number of nodes and edges in largest connected component\n",
    "lc_filter_ven.number_of_nodes(), lc_filter_ven.number_of_edges()"
   ]
  },
  {
   "cell_type": "code",
   "execution_count": 105,
   "metadata": {},
   "outputs": [],
   "source": [
    "lc_filter_nodes_ven = list(lc_filter_ven.nodes())"
   ]
  },
  {
   "cell_type": "markdown",
   "metadata": {},
   "source": [
    "### Construct edge list and node list"
   ]
  },
  {
   "cell_type": "code",
   "execution_count": 106,
   "metadata": {},
   "outputs": [
    {
     "name": "stdout",
     "output_type": "stream",
     "text": [
      "Files written succesfully\n"
     ]
    }
   ],
   "source": [
    "edgelist_path_ven = ''\n",
    "nodelist_path_ven = ''\n",
    "edgelist_ven, encoding_ven = generate_input_files(lc_filter_ven, lc_filter_nodes_ven, nodelist_path_ven, edgelist_path_ven)"
   ]
  },
  {
   "cell_type": "markdown",
   "metadata": {},
   "source": [
    "### Get activities for active vendors only"
   ]
  },
  {
   "cell_type": "code",
   "execution_count": 108,
   "metadata": {},
   "outputs": [],
   "source": [
    "github_new_ven_filter = github_new_ven.loc[github_new_ven['Vendor'].isin(lc_filter_nodes_ven)]"
   ]
  },
  {
   "cell_type": "code",
   "execution_count": null,
   "metadata": {},
   "outputs": [],
   "source": [
    "#Set dailyTime as a column in the df\n",
    "github_new_ven_filter.reset_index(level=0, inplace=True)\n",
    "github_new_ven_filter.rename(columns={'index':'nodeTime'}, inplace=True)"
   ]
  },
  {
   "cell_type": "code",
   "execution_count": null,
   "metadata": {},
   "outputs": [],
   "source": [
    "github_new_ven_filter['label'] = github_new_ven_filter['Vendor'].map(encoding_ven)"
   ]
  },
  {
   "cell_type": "code",
   "execution_count": 113,
   "metadata": {},
   "outputs": [],
   "source": [
    "ven_day_acts_formatted = github_new_ven_filter.pivot_table(values='PushEvent', index='nodeTime', columns='label', aggfunc='first')"
   ]
  },
  {
   "cell_type": "code",
   "execution_count": 175,
   "metadata": {},
   "outputs": [],
   "source": [
    "avg_ven_filter = github_new_ven_filter.groupby('Vendor')['PushEvent'].mean().reset_index(name='avg_acts')"
   ]
  },
  {
   "cell_type": "code",
   "execution_count": 176,
   "metadata": {},
   "outputs": [
    {
     "data": {
      "text/html": [
       "<div>\n",
       "<style scoped>\n",
       "    .dataframe tbody tr th:only-of-type {\n",
       "        vertical-align: middle;\n",
       "    }\n",
       "\n",
       "    .dataframe tbody tr th {\n",
       "        vertical-align: top;\n",
       "    }\n",
       "\n",
       "    .dataframe thead th {\n",
       "        text-align: right;\n",
       "    }\n",
       "</style>\n",
       "<table border=\"1\" class=\"dataframe\">\n",
       "  <thead>\n",
       "    <tr style=\"text-align: right;\">\n",
       "      <th></th>\n",
       "      <th>avg_acts</th>\n",
       "    </tr>\n",
       "  </thead>\n",
       "  <tbody>\n",
       "    <tr>\n",
       "      <th>count</th>\n",
       "      <td>66.000000</td>\n",
       "    </tr>\n",
       "    <tr>\n",
       "      <th>mean</th>\n",
       "      <td>4.838776</td>\n",
       "    </tr>\n",
       "    <tr>\n",
       "      <th>std</th>\n",
       "      <td>8.015425</td>\n",
       "    </tr>\n",
       "    <tr>\n",
       "      <th>min</th>\n",
       "      <td>0.622260</td>\n",
       "    </tr>\n",
       "    <tr>\n",
       "      <th>25%</th>\n",
       "      <td>0.895447</td>\n",
       "    </tr>\n",
       "    <tr>\n",
       "      <th>50%</th>\n",
       "      <td>1.730185</td>\n",
       "    </tr>\n",
       "    <tr>\n",
       "      <th>75%</th>\n",
       "      <td>4.145025</td>\n",
       "    </tr>\n",
       "    <tr>\n",
       "      <th>max</th>\n",
       "      <td>41.571669</td>\n",
       "    </tr>\n",
       "  </tbody>\n",
       "</table>\n",
       "</div>"
      ],
      "text/plain": [
       "        avg_acts\n",
       "count  66.000000\n",
       "mean    4.838776\n",
       "std     8.015425\n",
       "min     0.622260\n",
       "25%     0.895447\n",
       "50%     1.730185\n",
       "75%     4.145025\n",
       "max    41.571669"
      ]
     },
     "execution_count": 176,
     "metadata": {},
     "output_type": "execute_result"
    }
   ],
   "source": [
    "avg_ven_filter.describe()"
   ]
  },
  {
   "cell_type": "markdown",
   "metadata": {},
   "source": [
    "#### Generate h5 user features file"
   ]
  },
  {
   "cell_type": "code",
   "execution_count": 115,
   "metadata": {},
   "outputs": [],
   "source": [
    "output_file = ''\n",
    "ven_day_acts_formatted.to_hdf(output_file, key='df', mode='w')"
   ]
  },
  {
   "cell_type": "markdown",
   "metadata": {},
   "source": [
    "## Product Level"
   ]
  },
  {
   "cell_type": "code",
   "execution_count": 116,
   "metadata": {},
   "outputs": [],
   "source": [
    "path_to_prod = ''"
   ]
  },
  {
   "cell_type": "code",
   "execution_count": 117,
   "metadata": {},
   "outputs": [],
   "source": [
    "mapping_df = pd.read_csv(path_to_prod)"
   ]
  },
  {
   "cell_type": "code",
   "execution_count": 118,
   "metadata": {},
   "outputs": [],
   "source": [
    "product_df = pd.read_csv(path_to_prod)\n",
    "product_df.rename(columns={'CVEID':'informationID'}, inplace=True)"
   ]
  },
  {
   "cell_type": "code",
   "execution_count": 119,
   "metadata": {},
   "outputs": [],
   "source": [
    "github_prod = pd.merge(github_df, product_df, on='informationID', how='inner')"
   ]
  },
  {
   "cell_type": "code",
   "execution_count": 120,
   "metadata": {},
   "outputs": [],
   "source": [
    "github_prod= github_prod.drop_duplicates(['actionType', 'informationID', 'nodeID', 'nodeTime',\n",
    "                                          'nodeUserID', 'Product']).reset_index(drop=True)"
   ]
  },
  {
   "cell_type": "code",
   "execution_count": 121,
   "metadata": {
    "scrolled": true
   },
   "outputs": [],
   "source": [
    "product_df = github_prod[['informationID', 'Product']].copy()\n",
    "product_df = product_df.drop_duplicates()"
   ]
  },
  {
   "cell_type": "code",
   "execution_count": 122,
   "metadata": {},
   "outputs": [],
   "source": [
    "product_df1 = product_df.copy()\n",
    "product_df1.rename(columns={'Product':'Target'}, inplace=True)"
   ]
  },
  {
   "cell_type": "code",
   "execution_count": 123,
   "metadata": {},
   "outputs": [],
   "source": [
    "products_df = pd.merge(product_df, product_df1, on='informationID', how='left')"
   ]
  },
  {
   "cell_type": "code",
   "execution_count": 124,
   "metadata": {},
   "outputs": [],
   "source": [
    "products_df= products_df.groupby(['Product','Target']).size().reset_index(name='weight')"
   ]
  },
  {
   "cell_type": "markdown",
   "metadata": {},
   "source": [
    "#### Building Graph"
   ]
  },
  {
   "cell_type": "code",
   "execution_count": 125,
   "metadata": {},
   "outputs": [],
   "source": [
    "#Create digraph for GitHub\n",
    "G_prod = nx.from_pandas_edgelist(products_df,'Product', 'Target', ['weight'], create_using=nx.Graph())"
   ]
  },
  {
   "cell_type": "code",
   "execution_count": 126,
   "metadata": {},
   "outputs": [
    {
     "data": {
      "text/plain": [
       "(5057, 250401)"
      ]
     },
     "execution_count": 126,
     "metadata": {},
     "output_type": "execute_result"
    }
   ],
   "source": [
    "G_prod.number_of_nodes(), G_prod.number_of_edges()"
   ]
  },
  {
   "cell_type": "code",
   "execution_count": 127,
   "metadata": {},
   "outputs": [],
   "source": [
    "#Get largest strongly connected component\n",
    "lc_prod = sorted(nx.connected_components(G_prod), key=len, reverse=True)"
   ]
  },
  {
   "cell_type": "code",
   "execution_count": 128,
   "metadata": {},
   "outputs": [],
   "source": [
    "#Get Subgraph of the largest connected component.\n",
    "lc_prod = G_prod.subgraph(lc_prod[0])"
   ]
  },
  {
   "cell_type": "code",
   "execution_count": 129,
   "metadata": {
    "scrolled": true
   },
   "outputs": [
    {
     "data": {
      "text/plain": [
       "(1632, 16198)"
      ]
     },
     "execution_count": 129,
     "metadata": {},
     "output_type": "execute_result"
    }
   ],
   "source": [
    "#Number of nodes and edges in largest connected component\n",
    "lc_prod.number_of_nodes(), lc_prod.number_of_edges()"
   ]
  },
  {
   "cell_type": "code",
   "execution_count": 130,
   "metadata": {},
   "outputs": [],
   "source": [
    "#Get list of nodes in largest connected component\n",
    "prod_nodes = list(lc_prod.nodes())"
   ]
  },
  {
   "cell_type": "markdown",
   "metadata": {},
   "source": [
    "#### Getting activities by proddor"
   ]
  },
  {
   "cell_type": "code",
   "execution_count": 131,
   "metadata": {},
   "outputs": [],
   "source": [
    "prod_acts = github_prod.loc[github_prod['Product'].isin(prod_nodes)].reset_index(drop=True)"
   ]
  },
  {
   "cell_type": "code",
   "execution_count": 132,
   "metadata": {},
   "outputs": [],
   "source": [
    "#Create a dailyTime field\n",
    "prod_acts['dailyTime'] = prod_acts['nodeTime'].dt.strftime('%Y-%m-%d')"
   ]
  },
  {
   "cell_type": "code",
   "execution_count": 133,
   "metadata": {
    "scrolled": true
   },
   "outputs": [],
   "source": [
    "#Get daily activities of each prod'' for 10 eprodts\n",
    "prod_dayacts = prod_acts.groupby(['Product', 'dailyTime']).actionType.value_counts().unstack(fill_value=0).reset_index()"
   ]
  },
  {
   "cell_type": "code",
   "execution_count": 134,
   "metadata": {
    "scrolled": true
   },
   "outputs": [],
   "source": [
    "del prod_dayacts.columns.name"
   ]
  },
  {
   "cell_type": "code",
   "execution_count": 135,
   "metadata": {},
   "outputs": [],
   "source": [
    "#dailyTime to datetime object\n",
    "prod_dayacts['dailyTime'] = pd.to_datetime(prod_dayacts['dailyTime'])"
   ]
  },
  {
   "cell_type": "code",
   "execution_count": 136,
   "metadata": {},
   "outputs": [],
   "source": [
    "#Keep only PushEprodts\n",
    "prod_dayacts = prod_dayacts[['Product', 'dailyTime', 'PushEvent']].copy()"
   ]
  },
  {
   "cell_type": "markdown",
   "metadata": {},
   "source": [
    "#### Generate missing inactive days"
   ]
  },
  {
   "cell_type": "code",
   "execution_count": 137,
   "metadata": {},
   "outputs": [],
   "source": [
    "github_new_prod = add_missing_data_git(prod_dayacts, entity='Product')"
   ]
  },
  {
   "cell_type": "code",
   "execution_count": 138,
   "metadata": {},
   "outputs": [],
   "source": [
    "#Get user avg daily push activities \n",
    "prod_avg_df = github_new_prod.groupby('Product')['PushEvent'].mean().reset_index(name='avg_daily')"
   ]
  },
  {
   "cell_type": "code",
   "execution_count": 139,
   "metadata": {
    "scrolled": true
   },
   "outputs": [
    {
     "data": {
      "text/html": [
       "<div>\n",
       "<style scoped>\n",
       "    .dataframe tbody tr th:only-of-type {\n",
       "        vertical-align: middle;\n",
       "    }\n",
       "\n",
       "    .dataframe tbody tr th {\n",
       "        vertical-align: top;\n",
       "    }\n",
       "\n",
       "    .dataframe thead th {\n",
       "        text-align: right;\n",
       "    }\n",
       "</style>\n",
       "<table border=\"1\" class=\"dataframe\">\n",
       "  <thead>\n",
       "    <tr style=\"text-align: right;\">\n",
       "      <th></th>\n",
       "      <th>avg_daily</th>\n",
       "    </tr>\n",
       "  </thead>\n",
       "  <tbody>\n",
       "    <tr>\n",
       "      <th>count</th>\n",
       "      <td>1632.000000</td>\n",
       "    </tr>\n",
       "    <tr>\n",
       "      <th>mean</th>\n",
       "      <td>0.308702</td>\n",
       "    </tr>\n",
       "    <tr>\n",
       "      <th>std</th>\n",
       "      <td>1.846300</td>\n",
       "    </tr>\n",
       "    <tr>\n",
       "      <th>min</th>\n",
       "      <td>0.000000</td>\n",
       "    </tr>\n",
       "    <tr>\n",
       "      <th>25%</th>\n",
       "      <td>0.000843</td>\n",
       "    </tr>\n",
       "    <tr>\n",
       "      <th>50%</th>\n",
       "      <td>0.018550</td>\n",
       "    </tr>\n",
       "    <tr>\n",
       "      <th>75%</th>\n",
       "      <td>0.090219</td>\n",
       "    </tr>\n",
       "    <tr>\n",
       "      <th>max</th>\n",
       "      <td>41.312816</td>\n",
       "    </tr>\n",
       "  </tbody>\n",
       "</table>\n",
       "</div>"
      ],
      "text/plain": [
       "         avg_daily\n",
       "count  1632.000000\n",
       "mean      0.308702\n",
       "std       1.846300\n",
       "min       0.000000\n",
       "25%       0.000843\n",
       "50%       0.018550\n",
       "75%       0.090219\n",
       "max      41.312816"
      ]
     },
     "execution_count": 139,
     "metadata": {},
     "output_type": "execute_result"
    }
   ],
   "source": [
    "prod_avg_df.describe()"
   ]
  },
  {
   "cell_type": "markdown",
   "metadata": {},
   "source": [
    "### Filter out users with an avg. number of activities less than the global avg."
   ]
  },
  {
   "cell_type": "code",
   "execution_count": 140,
   "metadata": {},
   "outputs": [],
   "source": [
    "avg_nodes_prod = prod_avg_df.loc[prod_avg_df['avg_daily'] > 0.308702]"
   ]
  },
  {
   "cell_type": "code",
   "execution_count": 141,
   "metadata": {
    "scrolled": true
   },
   "outputs": [],
   "source": [
    "avg_nodes_prod = list(avg_nodes_prod['Product'])"
   ]
  },
  {
   "cell_type": "code",
   "execution_count": 142,
   "metadata": {},
   "outputs": [],
   "source": [
    "#Keep only connections for nodes with avg activity greater than mean\n",
    "df_filter_prod = products_df.loc[products_df['Product'].isin(avg_nodes_prod)].reset_index(drop=True)"
   ]
  },
  {
   "cell_type": "code",
   "execution_count": 144,
   "metadata": {},
   "outputs": [],
   "source": [
    "#Create digraph for filtered nodes\n",
    "G_filter_prod = nx.from_pandas_edgelist(df_filter_prod, 'Product', 'Target', ['weight'], create_using=nx.DiGraph())"
   ]
  },
  {
   "cell_type": "code",
   "execution_count": 145,
   "metadata": {},
   "outputs": [],
   "source": [
    "#Get largest strongly connected component\n",
    "lc_filter_prod = sorted(nx.strongly_connected_components(G_filter_prod), key=len, reverse=True)"
   ]
  },
  {
   "cell_type": "code",
   "execution_count": 146,
   "metadata": {},
   "outputs": [],
   "source": [
    "#Get Subgraph of the largest connected component.\n",
    "lc_filter_prod = G_filter_prod.subgraph(lc_filter_prod[0])"
   ]
  },
  {
   "cell_type": "code",
   "execution_count": 147,
   "metadata": {},
   "outputs": [
    {
     "data": {
      "text/plain": [
       "(199, 5343)"
      ]
     },
     "execution_count": 147,
     "metadata": {},
     "output_type": "execute_result"
    }
   ],
   "source": [
    "#Number of nodes and edges in largest connected component\n",
    "lc_filter_prod.number_of_nodes(), lc_filter_prod.number_of_edges()"
   ]
  },
  {
   "cell_type": "code",
   "execution_count": 148,
   "metadata": {},
   "outputs": [],
   "source": [
    "lc_filter_nodes_prod = list(lc_filter_prod.nodes())"
   ]
  },
  {
   "cell_type": "markdown",
   "metadata": {},
   "source": [
    "### Construct edge list and node list"
   ]
  },
  {
   "cell_type": "code",
   "execution_count": 149,
   "metadata": {},
   "outputs": [
    {
     "name": "stdout",
     "output_type": "stream",
     "text": [
      "Files written succesfully\n"
     ]
    }
   ],
   "source": [
    "edgelist_path_prod = ''\n",
    "nodelist_path_prod = ''\n",
    "edgelist_prod, encoding_prod = generate_input_files(lc_filter_prod, lc_filter_nodes_prod, nodelist_path_prod, edgelist_path_prod)"
   ]
  },
  {
   "cell_type": "markdown",
   "metadata": {},
   "source": [
    "### Get activities for active proddors only"
   ]
  },
  {
   "cell_type": "code",
   "execution_count": 150,
   "metadata": {},
   "outputs": [],
   "source": [
    "github_new_prod_filter = github_new_prod.loc[github_new_prod['Product'].isin(lc_filter_nodes_prod)]"
   ]
  },
  {
   "cell_type": "code",
   "execution_count": null,
   "metadata": {},
   "outputs": [],
   "source": [
    "#Set dailyTime as a column in the df\n",
    "github_new_prod_filter.reset_index(level=0, inplace=True)\n",
    "github_new_prod_filter.rename(columns={'index':'nodeTime'}, inplace=True)"
   ]
  },
  {
   "cell_type": "code",
   "execution_count": null,
   "metadata": {},
   "outputs": [],
   "source": [
    "github_new_prod_filter['label'] = github_new_prod_filter['Product'].map(encoding_prod)"
   ]
  },
  {
   "cell_type": "code",
   "execution_count": 153,
   "metadata": {},
   "outputs": [],
   "source": [
    "prod_day_acts_formatted = github_new_prod_filter.pivot_table(values='PushEvent', index='nodeTime', columns='label', aggfunc='first')"
   ]
  },
  {
   "cell_type": "code",
   "execution_count": 177,
   "metadata": {},
   "outputs": [],
   "source": [
    "avg_prod_filter = github_new_prod_filter.groupby('Product')['PushEvent'].mean().reset_index(name='avg_acts')"
   ]
  },
  {
   "cell_type": "code",
   "execution_count": 178,
   "metadata": {},
   "outputs": [
    {
     "data": {
      "text/html": [
       "<div>\n",
       "<style scoped>\n",
       "    .dataframe tbody tr th:only-of-type {\n",
       "        vertical-align: middle;\n",
       "    }\n",
       "\n",
       "    .dataframe tbody tr th {\n",
       "        vertical-align: top;\n",
       "    }\n",
       "\n",
       "    .dataframe thead th {\n",
       "        text-align: right;\n",
       "    }\n",
       "</style>\n",
       "<table border=\"1\" class=\"dataframe\">\n",
       "  <thead>\n",
       "    <tr style=\"text-align: right;\">\n",
       "      <th></th>\n",
       "      <th>avg_acts</th>\n",
       "    </tr>\n",
       "  </thead>\n",
       "  <tbody>\n",
       "    <tr>\n",
       "      <th>count</th>\n",
       "      <td>199.000000</td>\n",
       "    </tr>\n",
       "    <tr>\n",
       "      <th>mean</th>\n",
       "      <td>2.250528</td>\n",
       "    </tr>\n",
       "    <tr>\n",
       "      <th>std</th>\n",
       "      <td>4.872136</td>\n",
       "    </tr>\n",
       "    <tr>\n",
       "      <th>min</th>\n",
       "      <td>0.312816</td>\n",
       "    </tr>\n",
       "    <tr>\n",
       "      <th>25%</th>\n",
       "      <td>0.493255</td>\n",
       "    </tr>\n",
       "    <tr>\n",
       "      <th>50%</th>\n",
       "      <td>0.777403</td>\n",
       "    </tr>\n",
       "    <tr>\n",
       "      <th>75%</th>\n",
       "      <td>1.872260</td>\n",
       "    </tr>\n",
       "    <tr>\n",
       "      <th>max</th>\n",
       "      <td>41.312816</td>\n",
       "    </tr>\n",
       "  </tbody>\n",
       "</table>\n",
       "</div>"
      ],
      "text/plain": [
       "         avg_acts\n",
       "count  199.000000\n",
       "mean     2.250528\n",
       "std      4.872136\n",
       "min      0.312816\n",
       "25%      0.493255\n",
       "50%      0.777403\n",
       "75%      1.872260\n",
       "max     41.312816"
      ]
     },
     "execution_count": 178,
     "metadata": {},
     "output_type": "execute_result"
    }
   ],
   "source": [
    "avg_prod_filter.describe()"
   ]
  },
  {
   "cell_type": "markdown",
   "metadata": {},
   "source": [
    "#### Generate h5 user features file"
   ]
  },
  {
   "cell_type": "code",
   "execution_count": 155,
   "metadata": {},
   "outputs": [],
   "source": [
    "output_file = ''\n",
    "prod_day_acts_formatted.to_hdf(output_file, key='df', mode='w')"
   ]
  }
 ],
 "metadata": {
  "kernelspec": {
   "display_name": "Python [conda env:pnnl_socialsim]",
   "language": "python",
   "name": "conda-env-pnnl_socialsim-py"
  },
  "language_info": {
   "codemirror_mode": {
    "name": "ipython",
    "version": 3
   },
   "file_extension": ".py",
   "mimetype": "text/x-python",
   "name": "python",
   "nbconvert_exporter": "python",
   "pygments_lexer": "ipython3",
   "version": "3.6.8"
  }
 },
 "nbformat": 4,
 "nbformat_minor": 2
}
